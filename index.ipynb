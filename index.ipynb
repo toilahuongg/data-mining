{
 "cells": [
  {
   "cell_type": "code",
   "execution_count": 21,
   "metadata": {},
   "outputs": [],
   "source": [
    "import pandas as pd"
   ]
  },
  {
   "cell_type": "code",
   "execution_count": 22,
   "metadata": {},
   "outputs": [
    {
     "data": {
      "text/plain": [
       "0    0.6961\n",
       "1    0.6730\n",
       "Name: accuracy, dtype: float64"
      ]
     },
     "execution_count": 22,
     "metadata": {},
     "output_type": "execute_result"
    }
   ],
   "source": [
    "dfAnimal = pd.read_csv('animal.csv')\n",
    "dfCar2Bike = pd.read_csv('car2bike.csv')\n",
    "dfFlower = pd.read_csv('flower.csv')\n",
    "dfSimpson = pd.read_csv('simpson.csv')\n",
    "\n",
    "ds = ['animal', 'car2bike', 'simpson', 'flower']\n",
    "scores = ['accuracy', 'recall', 'f1-score', 'training-time', 'inference-time']\n",
    "algorithms = ['cnn', 'knn']\n",
    "dfAnimal['accuracy']"
   ]
  },
  {
   "cell_type": "code",
   "execution_count": 23,
   "metadata": {},
   "outputs": [],
   "source": [
    "def writeScore(score):\n",
    "  df = pd.DataFrame()\n",
    "  df['type'] = algorithms\n",
    "  df['animal'] = dfAnimal[score]\n",
    "  df['car2bike'] = dfCar2Bike[score]\n",
    "  df['simpson'] = dfSimpson[score]\n",
    "  df['flower'] = dfFlower[score]\n",
    "  df.to_csv(score+'.csv', index=False)"
   ]
  },
  {
   "cell_type": "code",
   "execution_count": 24,
   "metadata": {},
   "outputs": [],
   "source": [
    "def calculateAvgScore(score, algo):\n",
    "  idx = algorithms.index(algo)\n",
    "  return (dfAnimal[score][idx] + dfCar2Bike[score][idx] + dfSimpson[score][idx] + dfFlower[score][idx])/4"
   ]
  },
  {
   "cell_type": "code",
   "execution_count": 25,
   "metadata": {},
   "outputs": [],
   "source": [
    "def writeAvgScore(score):\n",
    "  df = pd.DataFrame()\n",
    "  df['type'] = algorithms\n",
    "  df[score] = [calculateAvgScore(score, 'cnn'), calculateAvgScore(score, 'knn')]\n",
    "  df.to_csv(score+'-avg.csv', index=False)"
   ]
  },
  {
   "cell_type": "code",
   "execution_count": 26,
   "metadata": {},
   "outputs": [],
   "source": [
    "for score in scores: \n",
    "  writeScore(score)\n",
    "  writeAvgScore(score)"
   ]
  }
 ],
 "metadata": {
  "kernelspec": {
   "display_name": "venv",
   "language": "python",
   "name": "python3"
  },
  "language_info": {
   "codemirror_mode": {
    "name": "ipython",
    "version": 3
   },
   "file_extension": ".py",
   "mimetype": "text/x-python",
   "name": "python",
   "nbconvert_exporter": "python",
   "pygments_lexer": "ipython3",
   "version": "3.9.6"
  },
  "orig_nbformat": 4
 },
 "nbformat": 4,
 "nbformat_minor": 2
}
